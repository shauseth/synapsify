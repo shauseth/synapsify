{
 "cells": [
  {
   "cell_type": "code",
   "execution_count": 1,
   "id": "e8afa702",
   "metadata": {},
   "outputs": [],
   "source": [
    "import numpy as np\n",
    "import matplotlib.pyplot as plt"
   ]
  },
  {
   "cell_type": "code",
   "execution_count": 4,
   "id": "2d7b5a57",
   "metadata": {},
   "outputs": [],
   "source": [
    "def plot(neurons):\n",
    "    plt.figure(figsize=(10, 4))\n",
    "    for neuron in neurons:\n",
    "        plt.plot(neurons[neuron].history, label=neuron)\n",
    "    plt.xlabel('time')\n",
    "    plt.ylabel('potential')\n",
    "    plt.legend()\n",
    "    plt.grid(alpha=0.2)\n",
    "    plt.show()\n",
    "    \n",
    "def random(r=1):\n",
    "    return (np.random.rand() - 0.5) * r"
   ]
  },
  {
   "cell_type": "code",
   "execution_count": 5,
   "id": "ec7c741f",
   "metadata": {},
   "outputs": [],
   "source": [
    "class Neuron:\n",
    "    def __init__(self, type='hid'):\n",
    "        self.type = type\n",
    "        self.t = 0.0 # threshold potential\n",
    "        self.p = -1.0 # resting potential\n",
    "        self.min_p = -2.0 # minimum potential\n",
    "        self.a = False # action potential\n",
    "        self.history = []\n",
    "        self.count = 0\n",
    "    def update(self, s):\n",
    "        if self.p < self.t:\n",
    "            self.p += s # graded potential\n",
    "            self.p = max(self.min_p, min(self.p, self.t))\n",
    "            self.a = False\n",
    "        elif self.p == self.t:\n",
    "            self.p += 8.0 # depolarization\n",
    "            self.a = True\n",
    "            self.count += 1\n",
    "        elif self.p > self.t:\n",
    "            self.p -= 3.0 # repolarization\n",
    "        self.history.append(self.p)"
   ]
  },
  {
   "cell_type": "code",
   "execution_count": 7,
   "id": "826475be",
   "metadata": {},
   "outputs": [],
   "source": [
    "neurons = {'a': Neuron('in'),\n",
    "           'b': Neuron(),\n",
    "           'f': Neuron('out')}\n",
    "\n",
    "connections = [('a', 'b', 0.1),\n",
    "               ('b', 'c', 0.1)]"
   ]
  },
  {
   "cell_type": "code",
   "execution_count": 15,
   "id": "51438dd3",
   "metadata": {},
   "outputs": [
    {
     "data": {
      "text/plain": [
       "'b'"
      ]
     },
     "execution_count": 15,
     "metadata": {},
     "output_type": "execute_result"
    }
   ],
   "source": [
    "np.random.choice(list(neurons.keys()))"
   ]
  },
  {
   "cell_type": "code",
   "execution_count": null,
   "id": "df105968",
   "metadata": {},
   "outputs": [],
   "source": []
  }
 ],
 "metadata": {
  "kernelspec": {
   "display_name": "Python 3 (ipykernel)",
   "language": "python",
   "name": "python3"
  },
  "language_info": {
   "codemirror_mode": {
    "name": "ipython",
    "version": 3
   },
   "file_extension": ".py",
   "mimetype": "text/x-python",
   "name": "python",
   "nbconvert_exporter": "python",
   "pygments_lexer": "ipython3",
   "version": "3.9.1"
  }
 },
 "nbformat": 4,
 "nbformat_minor": 5
}
